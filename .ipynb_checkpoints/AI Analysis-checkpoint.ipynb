{
 "cells": [
  {
   "cell_type": "code",
   "execution_count": 233,
   "id": "c9ac7650-e06e-4ed4-9587-17c41aac11ed",
   "metadata": {},
   "outputs": [],
   "source": [
    "%matplotlib inline\n",
    "from matplotlib import style\n",
    "style.use('fivethirtyeight')\n",
    "import matplotlib.pyplot as plt\n",
    "from flask import jsonify "
   ]
  },
  {
   "cell_type": "code",
   "execution_count": 234,
   "id": "0822b01f-6439-4132-9814-e65253a3186a",
   "metadata": {},
   "outputs": [],
   "source": [
    "import numpy as np\n",
    "import pandas as pd"
   ]
  },
  {
   "cell_type": "code",
   "execution_count": 235,
   "id": "24d24862-4024-491d-bd3b-6343dbaf4519",
   "metadata": {},
   "outputs": [],
   "source": [
    "import datetime as dt"
   ]
  },
  {
   "cell_type": "code",
   "execution_count": 236,
   "id": "4c7db25d-8d66-4862-b757-542d2ee21bf2",
   "metadata": {},
   "outputs": [],
   "source": [
    "# Python SQL toolkit and Object Relational Mapper\n",
    "import sqlalchemy\n",
    "from sqlalchemy.ext.automap import automap_base\n",
    "from sqlalchemy.orm import Session\n",
    "from sqlalchemy import create_engine, func, inspect"
   ]
  },
  {
   "cell_type": "code",
   "execution_count": 237,
   "id": "ee9702e3-02f2-410b-b876-1aa278a6f953",
   "metadata": {},
   "outputs": [],
   "source": [
    "#  create database connection\n",
    "connection_string = \"postgres:nopass97@localhost:5432/Project\"\n",
    "engine = create_engine(f'postgresql://{connection_string}')"
   ]
  },
  {
   "cell_type": "code",
   "execution_count": 238,
   "id": "cde2bef7-0222-47c6-9d70-a7eca3080a0e",
   "metadata": {},
   "outputs": [
    {
     "data": {
      "text/plain": [
       "['TCD_Company',\n",
       " 'TCD_Deals',\n",
       " 'TCD_Capital',\n",
       " 'TCD_Revenue',\n",
       " 'AIDB',\n",
       " 'Tech_Companies_Deals',\n",
       " 'AI_Companies_Deals',\n",
       " 'AICD_Company',\n",
       " 'AICD_Deals',\n",
       " 'AICD_Capital',\n",
       " 'AICD_Revenue']"
      ]
     },
     "execution_count": 238,
     "metadata": {},
     "output_type": "execute_result"
    }
   ],
   "source": [
    "inspector = inspect(engine)\n",
    "inspector.get_table_names()"
   ]
  },
  {
   "cell_type": "code",
   "execution_count": 239,
   "id": "a392a37e-31d5-4ee5-afff-57f9fd74d098",
   "metadata": {},
   "outputs": [
    {
     "name": "stdout",
     "output_type": "stream",
     "text": [
      "Country TEXT\n",
      "City TEXT\n",
      "Name TEXT\n",
      "Category TEXT\n",
      "Website TEXT\n"
     ]
    }
   ],
   "source": [
    "# Get a list of column names and types\n",
    "columns = inspector.get_columns('AIDB')\n",
    "for c in columns:\n",
    "    print(c['name'], c[\"type\"])\n",
    "# columns"
   ]
  },
  {
   "cell_type": "code",
   "execution_count": 240,
   "id": "e9099c94-4f42-4bd1-80c2-e6cb09c32147",
   "metadata": {},
   "outputs": [
    {
     "data": {
      "text/plain": [
       "[('United States', 2812, 7658, 81316, 8756),\n",
       " ('United Kingdom', 478, 1179, 2946, 435),\n",
       " ('Canada', 282, 870, 1203, 93),\n",
       " ('India', 255, 615, 4596, 14359),\n",
       " ('China', 206, 465, 14896, 278)]"
      ]
     },
     "execution_count": 240,
     "metadata": {},
     "output_type": "execute_result"
    }
   ],
   "source": [
    "# Use `engine.execute` to select and display rows from the table\n",
    "engine.execute('SELECT * FROM \"AICD_Company\" LIMIT 5').fetchall()"
   ]
  },
  {
   "cell_type": "code",
   "execution_count": 254,
   "id": "68a60ffe-ebf5-4201-8d53-91ab04c6d342",
   "metadata": {},
   "outputs": [],
   "source": [
    "AIDB_J = pd.read_sql('SELECT * FROM \"AIDB\"',engine).to_dict('record')"
   ]
  },
  {
   "cell_type": "code",
   "execution_count": 244,
   "id": "63d40a69-c63c-4cbe-8408-33441eb4b667",
   "metadata": {},
   "outputs": [],
   "source": [
    "AID_J = pd.read_sql('SELECT * FROM \"AI_Companies_Deals\"',engine).to_dict('record')"
   ]
  },
  {
   "cell_type": "code",
   "execution_count": 245,
   "id": "18208c67-959f-4716-b9f5-3b413df3ed86",
   "metadata": {},
   "outputs": [],
   "source": [
    "TD_J = pd.read_sql('SELECT * FROM \"Tech_Companies_Deals\"',engine).to_dict('record')"
   ]
  },
  {
   "cell_type": "code",
   "execution_count": 246,
   "id": "ddd48db2-7aa4-483e-a446-17b668b57a88",
   "metadata": {},
   "outputs": [],
   "source": [
    "AI_Company_J = pd.read_sql('SELECT * FROM \"AICD_Company\"',engine).to_dict('record')"
   ]
  },
  {
   "cell_type": "code",
   "execution_count": 247,
   "id": "4551cdae-a888-4967-b997-941a5777c9ec",
   "metadata": {},
   "outputs": [],
   "source": [
    "AID_Deal_J = pd.read_sql('SELECT * FROM \"AICD_Deals\"',engine).to_dict('record')"
   ]
  },
  {
   "cell_type": "code",
   "execution_count": 248,
   "id": "2f2efab2-fc06-4782-9bdb-a5bdfac75d8d",
   "metadata": {},
   "outputs": [],
   "source": [
    "AID_Capital_J = pd.read_sql('SELECT * FROM \"AICD_Capital\"',engine).to_dict('record')"
   ]
  },
  {
   "cell_type": "code",
   "execution_count": 249,
   "id": "4f267cb7-c8bf-419e-b94c-7f9fc38bf0ba",
   "metadata": {},
   "outputs": [],
   "source": [
    "AID_Rev_J = pd.read_sql('SELECT * FROM \"AICD_Revenue\"',engine).to_dict('record')"
   ]
  },
  {
   "cell_type": "code",
   "execution_count": 250,
   "id": "f1fef8df-b345-4f88-ac78-5793cd554bed",
   "metadata": {},
   "outputs": [],
   "source": [
    "TD_Company_J = pd.read_sql('SELECT * FROM \"TCD_Company\"',engine).to_dict('record')"
   ]
  },
  {
   "cell_type": "code",
   "execution_count": 251,
   "id": "e5c18143-ac1d-4658-b35d-c1b04347953c",
   "metadata": {},
   "outputs": [],
   "source": [
    "TD_Deal_J = pd.read_sql('SELECT * FROM \"TCD_Deals\"',engine).to_dict('record')"
   ]
  },
  {
   "cell_type": "code",
   "execution_count": 252,
   "id": "6217dc0c-96aa-4947-b503-977abe636c46",
   "metadata": {},
   "outputs": [],
   "source": [
    "TD_Capital_J = pd.read_sql('SELECT * FROM \"TCD_Capital\"',engine).to_dict('record')"
   ]
  },
  {
   "cell_type": "code",
   "execution_count": 253,
   "id": "5b018874-d40f-4616-8955-1f9e381ac1b5",
   "metadata": {},
   "outputs": [],
   "source": [
    "TD_Rev_J = pd.read_sql('SELECT * FROM \"TCD_Revenue\"',engine).to_dict('record')"
   ]
  },
  {
   "cell_type": "code",
   "execution_count": 258,
   "id": "d20361c9-9aa4-4c3a-8b56-21284e453761",
   "metadata": {},
   "outputs": [],
   "source": [
    "#print(AIDB_J)"
   ]
  },
  {
   "cell_type": "code",
   "execution_count": 259,
   "id": "38bec01d-36da-4642-ac88-6c16da3948d1",
   "metadata": {},
   "outputs": [],
   "source": [
    "#print(AID_J)"
   ]
  },
  {
   "cell_type": "code",
   "execution_count": 260,
   "id": "535d1079-9adc-47b5-b428-69eab29c3623",
   "metadata": {},
   "outputs": [],
   "source": [
    "#print(TD_J)"
   ]
  },
  {
   "cell_type": "code",
   "execution_count": 262,
   "id": "06b14b80-0ef8-4a93-b1b5-818efb48d5bc",
   "metadata": {},
   "outputs": [],
   "source": [
    "#print(AI_Company_J)"
   ]
  },
  {
   "cell_type": "code",
   "execution_count": null,
   "id": "d2691984-3105-40ce-abf5-b67faaea0965",
   "metadata": {},
   "outputs": [],
   "source": [
    "#unused code\n",
    "#itemDict = {item[0]: item[1:] for item in TD}\n",
    "#itemDict\n",
    "#TD = engine.execute('SELECT * FROM tech_companies_deals').fetchall()\n",
    "#pd.read_sql('SELECT * FROM tech_companies_deals',engine).to_json(orient = 'index')"
   ]
  },
  {
   "cell_type": "code",
   "execution_count": null,
   "id": "29e2e921-3da9-4948-9f43-a359110dfd86",
   "metadata": {},
   "outputs": [],
   "source": []
  },
  {
   "cell_type": "code",
   "execution_count": 75,
   "id": "4d0cc0d8-2620-44a8-be6b-9b19f49cb998",
   "metadata": {},
   "outputs": [],
   "source": []
  },
  {
   "cell_type": "code",
   "execution_count": null,
   "id": "47ee5986-8510-4f1b-b5b7-def4f336ae56",
   "metadata": {},
   "outputs": [],
   "source": []
  }
 ],
 "metadata": {
  "kernelspec": {
   "display_name": "Python 3",
   "language": "python",
   "name": "python3"
  },
  "language_info": {
   "codemirror_mode": {
    "name": "ipython",
    "version": 3
   },
   "file_extension": ".py",
   "mimetype": "text/x-python",
   "name": "python",
   "nbconvert_exporter": "python",
   "pygments_lexer": "ipython3",
   "version": "3.8.8"
  }
 },
 "nbformat": 4,
 "nbformat_minor": 5
}
