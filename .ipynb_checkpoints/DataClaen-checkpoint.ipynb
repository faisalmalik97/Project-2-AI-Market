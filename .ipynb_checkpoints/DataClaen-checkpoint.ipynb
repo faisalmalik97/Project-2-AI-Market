{
 "cells": [
  {
   "cell_type": "code",
   "execution_count": 65,
   "id": "4c203ab1-93c0-4f37-9c3a-4ea99a2197f2",
   "metadata": {},
   "outputs": [],
   "source": [
    "import pandas as pd\n",
    "from sqlalchemy import create_engine, inspect"
   ]
  },
  {
   "cell_type": "code",
   "execution_count": 66,
   "id": "e96d08cb-e524-4bfd-a59a-3055edfc3fa8",
   "metadata": {},
   "outputs": [
    {
     "data": {
      "text/html": [
       "<div>\n",
       "<style scoped>\n",
       "    .dataframe tbody tr th:only-of-type {\n",
       "        vertical-align: middle;\n",
       "    }\n",
       "\n",
       "    .dataframe tbody tr th {\n",
       "        vertical-align: top;\n",
       "    }\n",
       "\n",
       "    .dataframe thead th {\n",
       "        text-align: right;\n",
       "    }\n",
       "</style>\n",
       "<table border=\"1\" class=\"dataframe\">\n",
       "  <thead>\n",
       "    <tr style=\"text-align: right;\">\n",
       "      <th></th>\n",
       "      <th>Country</th>\n",
       "      <th>State</th>\n",
       "      <th>City</th>\n",
       "      <th>Name</th>\n",
       "      <th>Category - Final</th>\n",
       "      <th>Description</th>\n",
       "      <th>Website</th>\n",
       "    </tr>\n",
       "  </thead>\n",
       "  <tbody>\n",
       "    <tr>\n",
       "      <th>0</th>\n",
       "      <td>United States</td>\n",
       "      <td>�New York</td>\n",
       "      <td>New York</td>\n",
       "      <td>*gram Labs</td>\n",
       "      <td>Core AI</td>\n",
       "      <td>GramLabs is a start up, leveraging deep learni...</td>\n",
       "      <td>http://gramlabs.ai/</td>\n",
       "    </tr>\n",
       "    <tr>\n",
       "      <th>1</th>\n",
       "      <td>Germany</td>\n",
       "      <td>NaN</td>\n",
       "      <td>Berlin</td>\n",
       "      <td>12k Research</td>\n",
       "      <td>Business Intelligence</td>\n",
       "      <td>NaN</td>\n",
       "      <td>https://12k.co</td>\n",
       "    </tr>\n",
       "    <tr>\n",
       "      <th>2</th>\n",
       "      <td>Israel</td>\n",
       "      <td>�HaMerkaz</td>\n",
       "      <td>Savyon</td>\n",
       "      <td>12mass</td>\n",
       "      <td>Communication</td>\n",
       "      <td>12Mass (formerly itweetlive) makes it possible...</td>\n",
       "      <td>http://12mass.com</td>\n",
       "    </tr>\n",
       "    <tr>\n",
       "      <th>3</th>\n",
       "      <td>China</td>\n",
       "      <td>NaN</td>\n",
       "      <td>Beijing</td>\n",
       "      <td>12SIGMA</td>\n",
       "      <td>Healthcare</td>\n",
       "      <td>12SIGMA is a biotechnology company that integr...</td>\n",
       "      <td>http://www.12sigma.cn</td>\n",
       "    </tr>\n",
       "    <tr>\n",
       "      <th>4</th>\n",
       "      <td>United States</td>\n",
       "      <td>�Maryland</td>\n",
       "      <td>Germantown</td>\n",
       "      <td>133T.</td>\n",
       "      <td>Human Resources</td>\n",
       "      <td>133T, (LEET), provides an automated, streamlin...</td>\n",
       "      <td>http://www.133t.com</td>\n",
       "    </tr>\n",
       "  </tbody>\n",
       "</table>\n",
       "</div>"
      ],
      "text/plain": [
       "         Country      State        City          Name       Category - Final  \\\n",
       "0  United States  �New York    New York    *gram Labs                Core AI   \n",
       "1        Germany        NaN      Berlin  12k Research  Business Intelligence   \n",
       "2         Israel  �HaMerkaz      Savyon        12mass          Communication   \n",
       "3          China        NaN     Beijing       12SIGMA             Healthcare   \n",
       "4  United States  �Maryland  Germantown         133T.        Human Resources   \n",
       "\n",
       "                                         Description                Website  \n",
       "0  GramLabs is a start up, leveraging deep learni...    http://gramlabs.ai/  \n",
       "1                                                NaN         https://12k.co  \n",
       "2  12Mass (formerly itweetlive) makes it possible...      http://12mass.com  \n",
       "3  12SIGMA is a biotechnology company that integr...  http://www.12sigma.cn  \n",
       "4  133T, (LEET), provides an automated, streamlin...    http://www.133t.com  "
      ]
     },
     "execution_count": 66,
     "metadata": {},
     "output_type": "execute_result"
    }
   ],
   "source": [
    "#store csv file into dataframe and view header of file\n",
    "csv_file1 = \"Data/ASGARD - Global-Artificial-Intelligence-Database-2018.csv\"\n",
    "aidb_data_df = pd.read_csv(csv_file1)\n",
    "aidb_data_df.head()"
   ]
  },
  {
   "cell_type": "code",
   "execution_count": 113,
   "id": "f79ba3bc-7942-40a8-ba40-492680118f2b",
   "metadata": {},
   "outputs": [
    {
     "data": {
      "text/plain": [
       "3466"
      ]
     },
     "execution_count": 113,
     "metadata": {},
     "output_type": "execute_result"
    }
   ],
   "source": [
    "len(aidb_data_df)"
   ]
  },
  {
   "cell_type": "code",
   "execution_count": 114,
   "id": "962bf0f5-8b5b-454d-aad0-a3c8f58a605c",
   "metadata": {},
   "outputs": [],
   "source": [
    "##  Rename the column headers\n",
    "aidb_data_df = aidb_data_df.rename(columns={\"Category - Final\": \"Category\"})\n",
    "idb_data_df = aidb_data_df.rename(columns={\"Name\": \"Company_Name\"})\n",
    "# Selecting the desired Columns\n",
    "Caidb_data_df = aidb_data_df[[\"Country\", \"City\", \"Name\", \"Category\", \"Website\"]]\n",
    "#Droping the NaN values in coutnry column\n",
    "Caidb_data_df = Caidb_data_df.dropna(axis = 0)\n",
    "Caidb_data_df.set_index(\"Country\", inplace=True)\n",
    "#Caidb_data_df.head()"
   ]
  },
  {
   "cell_type": "code",
   "execution_count": 116,
   "id": "e76d2585-0f5c-4ed5-ab18-63b8a5d99e2d",
   "metadata": {},
   "outputs": [
    {
     "data": {
      "text/plain": [
       "3272"
      ]
     },
     "execution_count": 116,
     "metadata": {},
     "output_type": "execute_result"
    }
   ],
   "source": [
    "len(Caidb_data_df)"
   ]
  },
  {
   "cell_type": "code",
   "execution_count": 117,
   "id": "cf8dbf98-6bf6-4112-8175-79ac45a91e96",
   "metadata": {},
   "outputs": [
    {
     "name": "stderr",
     "output_type": "stream",
     "text": [
      "<ipython-input-117-0b7ce90e2415>:2: FutureWarning: The default value of regex will change from True to False in a future version. In addition, single character regular expressions will*not* be treated as literal strings when regex=True.\n",
      "  Caidb_data_df.Name = Caidb_data_df.Name.str.replace('*', '')\n",
      "<ipython-input-117-0b7ce90e2415>:3: FutureWarning: The default value of regex will change from True to False in a future version. In addition, single character regular expressions will*not* be treated as literal strings when regex=True.\n",
      "  Caidb_data_df.Name = Caidb_data_df.Name.str.replace('.', '')\n"
     ]
    },
    {
     "data": {
      "text/html": [
       "<div>\n",
       "<style scoped>\n",
       "    .dataframe tbody tr th:only-of-type {\n",
       "        vertical-align: middle;\n",
       "    }\n",
       "\n",
       "    .dataframe tbody tr th {\n",
       "        vertical-align: top;\n",
       "    }\n",
       "\n",
       "    .dataframe thead th {\n",
       "        text-align: right;\n",
       "    }\n",
       "</style>\n",
       "<table border=\"1\" class=\"dataframe\">\n",
       "  <thead>\n",
       "    <tr style=\"text-align: right;\">\n",
       "      <th></th>\n",
       "      <th>City</th>\n",
       "      <th>Name</th>\n",
       "      <th>Category</th>\n",
       "      <th>Website</th>\n",
       "    </tr>\n",
       "    <tr>\n",
       "      <th>Country</th>\n",
       "      <th></th>\n",
       "      <th></th>\n",
       "      <th></th>\n",
       "      <th></th>\n",
       "    </tr>\n",
       "  </thead>\n",
       "  <tbody>\n",
       "    <tr>\n",
       "      <th>United States</th>\n",
       "      <td>New York</td>\n",
       "      <td>gram Labs</td>\n",
       "      <td>Core AI</td>\n",
       "      <td>http://gramlabs.ai/</td>\n",
       "    </tr>\n",
       "    <tr>\n",
       "      <th>Germany</th>\n",
       "      <td>Berlin</td>\n",
       "      <td>12k Research</td>\n",
       "      <td>Business Intelligence</td>\n",
       "      <td>https://12k.co</td>\n",
       "    </tr>\n",
       "    <tr>\n",
       "      <th>Israel</th>\n",
       "      <td>Savyon</td>\n",
       "      <td>12mass</td>\n",
       "      <td>Communication</td>\n",
       "      <td>http://12mass.com</td>\n",
       "    </tr>\n",
       "    <tr>\n",
       "      <th>China</th>\n",
       "      <td>Beijing</td>\n",
       "      <td>12SIGMA</td>\n",
       "      <td>Healthcare</td>\n",
       "      <td>http://www.12sigma.cn</td>\n",
       "    </tr>\n",
       "    <tr>\n",
       "      <th>United States</th>\n",
       "      <td>Germantown</td>\n",
       "      <td>133T</td>\n",
       "      <td>Human Resources</td>\n",
       "      <td>http://www.133t.com</td>\n",
       "    </tr>\n",
       "  </tbody>\n",
       "</table>\n",
       "</div>"
      ],
      "text/plain": [
       "                     City          Name               Category  \\\n",
       "Country                                                          \n",
       "United States    New York     gram Labs                Core AI   \n",
       "Germany            Berlin  12k Research  Business Intelligence   \n",
       "Israel             Savyon        12mass          Communication   \n",
       "China             Beijing       12SIGMA             Healthcare   \n",
       "United States  Germantown          133T        Human Resources   \n",
       "\n",
       "                             Website  \n",
       "Country                               \n",
       "United States    http://gramlabs.ai/  \n",
       "Germany               https://12k.co  \n",
       "Israel             http://12mass.com  \n",
       "China          http://www.12sigma.cn  \n",
       "United States    http://www.133t.com  "
      ]
     },
     "execution_count": 117,
     "metadata": {},
     "output_type": "execute_result"
    }
   ],
   "source": [
    "# Cleaning the df to remove * . \n",
    "Caidb_data_df.Name = Caidb_data_df.Name.str.replace('*', '')\n",
    "Caidb_data_df.Name = Caidb_data_df.Name.str.replace('.', '')\n",
    "Caidb_data_df.head()"
   ]
  },
  {
   "cell_type": "code",
   "execution_count": 118,
   "id": "9b305409-06ac-41d4-ac65-bc1686b590a2",
   "metadata": {},
   "outputs": [
    {
     "data": {
      "text/plain": [
       "City        object\n",
       "Name        object\n",
       "Category    object\n",
       "Website     object\n",
       "dtype: object"
      ]
     },
     "execution_count": 118,
     "metadata": {},
     "output_type": "execute_result"
    }
   ],
   "source": [
    "Caidb_data_df.dtypes"
   ]
  },
  {
   "cell_type": "code",
   "execution_count": 119,
   "id": "9fda8584-e455-4191-a8c3-cd85f54a73ef",
   "metadata": {},
   "outputs": [
    {
     "data": {
      "text/html": [
       "<div>\n",
       "<style scoped>\n",
       "    .dataframe tbody tr th:only-of-type {\n",
       "        vertical-align: middle;\n",
       "    }\n",
       "\n",
       "    .dataframe tbody tr th {\n",
       "        vertical-align: top;\n",
       "    }\n",
       "\n",
       "    .dataframe thead th {\n",
       "        text-align: right;\n",
       "    }\n",
       "</style>\n",
       "<table border=\"1\" class=\"dataframe\">\n",
       "  <thead>\n",
       "    <tr style=\"text-align: right;\">\n",
       "      <th></th>\n",
       "      <th>Country</th>\n",
       "      <th>Company_Count</th>\n",
       "      <th>Deal_Count</th>\n",
       "      <th>Capital_Invested</th>\n",
       "      <th>Capital_Invested_M</th>\n",
       "      <th>Revenue</th>\n",
       "      <th>Revenue_Max</th>\n",
       "      <th>Unnamed: 7</th>\n",
       "      <th>Unnamed: 8</th>\n",
       "      <th>Unnamed: 9</th>\n",
       "    </tr>\n",
       "  </thead>\n",
       "  <tbody>\n",
       "    <tr>\n",
       "      <th>0</th>\n",
       "      <td>United States</td>\n",
       "      <td>71,150</td>\n",
       "      <td>181,524.00</td>\n",
       "      <td>3,832,098.10</td>\n",
       "      <td>1.48</td>\n",
       "      <td>12.22</td>\n",
       "      <td>339,270.00</td>\n",
       "      <td>NaN</td>\n",
       "      <td>NaN</td>\n",
       "      <td>NaN</td>\n",
       "    </tr>\n",
       "    <tr>\n",
       "      <th>1</th>\n",
       "      <td>United Kingdom</td>\n",
       "      <td>12,243</td>\n",
       "      <td>25,896.00</td>\n",
       "      <td>416,953.61</td>\n",
       "      <td>0.85</td>\n",
       "      <td>5.39</td>\n",
       "      <td>9,591.12</td>\n",
       "      <td>NaN</td>\n",
       "      <td>NaN</td>\n",
       "      <td>NaN</td>\n",
       "    </tr>\n",
       "    <tr>\n",
       "      <th>2</th>\n",
       "      <td>Canada</td>\n",
       "      <td>6,498</td>\n",
       "      <td>14,939</td>\n",
       "      <td>104,214.39</td>\n",
       "      <td>0.79</td>\n",
       "      <td>2.53</td>\n",
       "      <td>6,245.08</td>\n",
       "      <td>NaN</td>\n",
       "      <td>NaN</td>\n",
       "      <td>NaN</td>\n",
       "    </tr>\n",
       "    <tr>\n",
       "      <th>3</th>\n",
       "      <td>Afghanistan</td>\n",
       "      <td>2</td>\n",
       "      <td>3</td>\n",
       "      <td>-</td>\n",
       "      <td>-</td>\n",
       "      <td>-</td>\n",
       "      <td>-</td>\n",
       "      <td>NaN</td>\n",
       "      <td>NaN</td>\n",
       "      <td>NaN</td>\n",
       "    </tr>\n",
       "    <tr>\n",
       "      <th>4</th>\n",
       "      <td>Albania</td>\n",
       "      <td>2</td>\n",
       "      <td>3</td>\n",
       "      <td>-</td>\n",
       "      <td>-</td>\n",
       "      <td>-</td>\n",
       "      <td>-</td>\n",
       "      <td>NaN</td>\n",
       "      <td>NaN</td>\n",
       "      <td>NaN</td>\n",
       "    </tr>\n",
       "  </tbody>\n",
       "</table>\n",
       "</div>"
      ],
      "text/plain": [
       "          Country Company_Count  Deal_Count Capital_Invested  \\\n",
       "0   United States        71,150  181,524.00     3,832,098.10   \n",
       "1  United Kingdom        12,243   25,896.00       416,953.61   \n",
       "2          Canada         6,498      14,939       104,214.39   \n",
       "3     Afghanistan             2           3                -   \n",
       "4         Albania             2           3                -   \n",
       "\n",
       "  Capital_Invested_M Revenue Revenue_Max  Unnamed: 7  Unnamed: 8  Unnamed: 9  \n",
       "0               1.48   12.22  339,270.00         NaN         NaN         NaN  \n",
       "1               0.85    5.39    9,591.12         NaN         NaN         NaN  \n",
       "2               0.79    2.53    6,245.08         NaN         NaN         NaN  \n",
       "3                  -       -           -         NaN         NaN         NaN  \n",
       "4                  -       -           -         NaN         NaN         NaN  "
      ]
     },
     "execution_count": 119,
     "metadata": {},
     "output_type": "execute_result"
    }
   ],
   "source": [
    "#store csv file into dataframe and view header of file\n",
    "csv_file2 = \"Data/Tech_Companies_Deals.csv\"\n",
    "tcd_data_df = pd.read_csv(csv_file2)\n",
    "tcd_data_df.head()"
   ]
  },
  {
   "cell_type": "code",
   "execution_count": 120,
   "id": "1600e09c-80bd-4d44-85cc-71ed7e8b7469",
   "metadata": {},
   "outputs": [],
   "source": [
    "\n",
    "# Selecting the desired Columns\n",
    "Ctcd_data_df = tcd_data_df[[\"Country\", \"Company_Count\", \"Deal_Count\", \"Capital_Invested\", \"Revenue_Max\"]]\n",
    "##  Rename the column headers\n",
    "Ctcd_data_df = Ctcd_data_df.rename(columns={\"Revenue_Max\": \"Revenue\"})\n",
    "#Droping the NaN values in coutnry column\n",
    "Ctcd_data_df = Ctcd_data_df.dropna(subset=['Country'])\n",
    "Ctcd_data_df.set_index(\"Country\", inplace=True)\n",
    "#Ctcd_data_df.head()"
   ]
  },
  {
   "cell_type": "code",
   "execution_count": 121,
   "id": "041986df-182e-4ae0-8841-8defa3d632de",
   "metadata": {},
   "outputs": [],
   "source": [
    "#Cleaning the data by removing , -\n",
    "Ctcd_data_df.Company_Count = Ctcd_data_df.Company_Count.str.replace(',', '')\n",
    "Ctcd_data_df.Deal_Count = Ctcd_data_df.Deal_Count.str.replace(',', '')\n",
    "Ctcd_data_df.Capital_Invested = Ctcd_data_df.Capital_Invested.str.replace(',', '')\n",
    "Ctcd_data_df.Capital_Invested = Ctcd_data_df.Capital_Invested.str.replace('-', '0')\n",
    "Ctcd_data_df.Revenue = Ctcd_data_df.Revenue.str.replace(',', '')\n",
    "Ctcd_data_df.Revenue = Ctcd_data_df.Revenue.str.replace('-', '0')"
   ]
  },
  {
   "cell_type": "code",
   "execution_count": 122,
   "id": "acb47473-43a2-46e1-a578-0e8156d3a2c3",
   "metadata": {},
   "outputs": [],
   "source": [
    "#Ctcd_data_df.head()"
   ]
  },
  {
   "cell_type": "code",
   "execution_count": 123,
   "id": "cd401de1-62e4-4422-8ab6-936f92024225",
   "metadata": {},
   "outputs": [
    {
     "data": {
      "text/html": [
       "<div>\n",
       "<style scoped>\n",
       "    .dataframe tbody tr th:only-of-type {\n",
       "        vertical-align: middle;\n",
       "    }\n",
       "\n",
       "    .dataframe tbody tr th {\n",
       "        vertical-align: top;\n",
       "    }\n",
       "\n",
       "    .dataframe thead th {\n",
       "        text-align: right;\n",
       "    }\n",
       "</style>\n",
       "<table border=\"1\" class=\"dataframe\">\n",
       "  <thead>\n",
       "    <tr style=\"text-align: right;\">\n",
       "      <th></th>\n",
       "      <th>Company_Count</th>\n",
       "      <th>Deal_Count</th>\n",
       "      <th>Capital_Invested</th>\n",
       "      <th>Revenue</th>\n",
       "    </tr>\n",
       "    <tr>\n",
       "      <th>Country</th>\n",
       "      <th></th>\n",
       "      <th></th>\n",
       "      <th></th>\n",
       "      <th></th>\n",
       "    </tr>\n",
       "  </thead>\n",
       "  <tbody>\n",
       "    <tr>\n",
       "      <th>United States</th>\n",
       "      <td>71150</td>\n",
       "      <td>181524</td>\n",
       "      <td>3832098</td>\n",
       "      <td>339270</td>\n",
       "    </tr>\n",
       "    <tr>\n",
       "      <th>United Kingdom</th>\n",
       "      <td>12243</td>\n",
       "      <td>25896</td>\n",
       "      <td>416953</td>\n",
       "      <td>9591</td>\n",
       "    </tr>\n",
       "    <tr>\n",
       "      <th>Canada</th>\n",
       "      <td>6498</td>\n",
       "      <td>14939</td>\n",
       "      <td>104214</td>\n",
       "      <td>6245</td>\n",
       "    </tr>\n",
       "    <tr>\n",
       "      <th>Afghanistan</th>\n",
       "      <td>2</td>\n",
       "      <td>3</td>\n",
       "      <td>0</td>\n",
       "      <td>0</td>\n",
       "    </tr>\n",
       "    <tr>\n",
       "      <th>Albania</th>\n",
       "      <td>2</td>\n",
       "      <td>3</td>\n",
       "      <td>0</td>\n",
       "      <td>0</td>\n",
       "    </tr>\n",
       "  </tbody>\n",
       "</table>\n",
       "</div>"
      ],
      "text/plain": [
       "                Company_Count  Deal_Count  Capital_Invested  Revenue\n",
       "Country                                                             \n",
       "United States           71150      181524           3832098   339270\n",
       "United Kingdom          12243       25896            416953     9591\n",
       "Canada                   6498       14939            104214     6245\n",
       "Afghanistan                 2           3                 0        0\n",
       "Albania                     2           3                 0        0"
      ]
     },
     "execution_count": 123,
     "metadata": {},
     "output_type": "execute_result"
    }
   ],
   "source": [
    "#Converting data types into integers\n",
    "Ctcd_data_df[\"Company_Count\"] = Ctcd_data_df.loc[:, [\"Company_Count\"]].astype(int)\n",
    "Ctcd_data_df[\"Deal_Count\"] = Ctcd_data_df.loc[:, [\"Deal_Count\"]].astype(float)\n",
    "Ctcd_data_df[\"Deal_Count\"] = Ctcd_data_df.loc[:, [\"Deal_Count\"]].astype(int)\n",
    "Ctcd_data_df[\"Capital_Invested\"] = Ctcd_data_df.loc[:, [\"Capital_Invested\"]].astype(float)\n",
    "Ctcd_data_df[\"Capital_Invested\"] = Ctcd_data_df.loc[:, [\"Capital_Invested\"]].astype(int)\n",
    "Ctcd_data_df[\"Revenue\"] = Ctcd_data_df.loc[:, [\"Revenue\"]].astype(float)\n",
    "Ctcd_data_df[\"Revenue\"] = Ctcd_data_df.loc[:, [\"Revenue\"]].astype(int)\n",
    "Ctcd_data_df.head()"
   ]
  },
  {
   "cell_type": "code",
   "execution_count": 124,
   "id": "3671533e-df96-4027-a59d-36306e9533b5",
   "metadata": {},
   "outputs": [
    {
     "data": {
      "text/plain": [
       "Company_Count       int64\n",
       "Deal_Count          int64\n",
       "Capital_Invested    int64\n",
       "Revenue             int64\n",
       "dtype: object"
      ]
     },
     "execution_count": 124,
     "metadata": {},
     "output_type": "execute_result"
    }
   ],
   "source": [
    "Ctcd_data_df.dtypes"
   ]
  },
  {
   "cell_type": "code",
   "execution_count": 125,
   "id": "83e61ff1-a589-4688-9f5b-5d8749184fd5",
   "metadata": {},
   "outputs": [],
   "source": [
    "# No of Company wise list country list\n",
    "Company_tcd = Ctcd_data_df.sort_values([\"Company_Count\"], ascending = False)\n",
    "#Company_tcd.head()"
   ]
  },
  {
   "cell_type": "code",
   "execution_count": 126,
   "id": "92838af2-49cb-4756-960d-d12a1f9167a1",
   "metadata": {},
   "outputs": [],
   "source": [
    "# No of Deals  wise list country list\n",
    "Deal_tcd = Ctcd_data_df.sort_values([\"Deal_Count\"], ascending = False)\n",
    "#Deal_tcd.head()"
   ]
  },
  {
   "cell_type": "code",
   "execution_count": 127,
   "id": "78a3804a-f066-4f1b-8633-be86d00518ef",
   "metadata": {},
   "outputs": [],
   "source": [
    "# Capital Invested  wise list country list\n",
    "Cap_tcd = Ctcd_data_df.sort_values([\"Capital_Invested\"], ascending = False)\n",
    "#Cap_tcd.head()"
   ]
  },
  {
   "cell_type": "code",
   "execution_count": 128,
   "id": "dc573d47-b427-4b56-a626-5f6e655b715f",
   "metadata": {},
   "outputs": [],
   "source": [
    "# Revenue  wise list country list\n",
    "Rev_tcd = Ctcd_data_df.sort_values([\"Revenue\"], ascending = False)\n",
    "#Rev_tcd.head()"
   ]
  },
  {
   "cell_type": "code",
   "execution_count": 129,
   "id": "056ed2c1-d31b-493b-a8ce-c261e1b6f7f5",
   "metadata": {},
   "outputs": [
    {
     "data": {
      "text/html": [
       "<div>\n",
       "<style scoped>\n",
       "    .dataframe tbody tr th:only-of-type {\n",
       "        vertical-align: middle;\n",
       "    }\n",
       "\n",
       "    .dataframe tbody tr th {\n",
       "        vertical-align: top;\n",
       "    }\n",
       "\n",
       "    .dataframe thead th {\n",
       "        text-align: right;\n",
       "    }\n",
       "</style>\n",
       "<table border=\"1\" class=\"dataframe\">\n",
       "  <thead>\n",
       "    <tr style=\"text-align: right;\">\n",
       "      <th></th>\n",
       "      <th>Countries</th>\n",
       "      <th>Company Count</th>\n",
       "      <th>Deal Count</th>\n",
       "      <th>Capital Invested</th>\n",
       "      <th>Capital Invested Median</th>\n",
       "      <th>Revenue Median</th>\n",
       "      <th>Revenue Max</th>\n",
       "      <th>Pre-money Valuation Median</th>\n",
       "      <th>% Acquired Median</th>\n",
       "      <th>Post Valuation Median</th>\n",
       "    </tr>\n",
       "  </thead>\n",
       "  <tbody>\n",
       "    <tr>\n",
       "      <th>0</th>\n",
       "      <td>United States</td>\n",
       "      <td>2,812</td>\n",
       "      <td>7,658</td>\n",
       "      <td>81,316.15</td>\n",
       "      <td>1.37</td>\n",
       "      <td>6.65</td>\n",
       "      <td>8,756.53</td>\n",
       "      <td>7.8</td>\n",
       "      <td>23.80%</td>\n",
       "      <td>11.31</td>\n",
       "    </tr>\n",
       "    <tr>\n",
       "      <th>1</th>\n",
       "      <td>United Kingdom</td>\n",
       "      <td>478</td>\n",
       "      <td>1,179</td>\n",
       "      <td>2,946.92</td>\n",
       "      <td>0.5</td>\n",
       "      <td>1.14</td>\n",
       "      <td>435.01</td>\n",
       "      <td>1.64</td>\n",
       "      <td>19.00%</td>\n",
       "      <td>2.2</td>\n",
       "    </tr>\n",
       "    <tr>\n",
       "      <th>2</th>\n",
       "      <td>Canada</td>\n",
       "      <td>282</td>\n",
       "      <td>870</td>\n",
       "      <td>1,203.96</td>\n",
       "      <td>0.54</td>\n",
       "      <td>0.89</td>\n",
       "      <td>93.36</td>\n",
       "      <td>1.79</td>\n",
       "      <td>25.30%</td>\n",
       "      <td>1.97</td>\n",
       "    </tr>\n",
       "    <tr>\n",
       "      <th>3</th>\n",
       "      <td>Argentina</td>\n",
       "      <td>5</td>\n",
       "      <td>14</td>\n",
       "      <td>4.78</td>\n",
       "      <td>0.03</td>\n",
       "      <td>-</td>\n",
       "      <td>-</td>\n",
       "      <td>0.75</td>\n",
       "      <td>-</td>\n",
       "      <td>-</td>\n",
       "    </tr>\n",
       "    <tr>\n",
       "      <th>4</th>\n",
       "      <td>Australia</td>\n",
       "      <td>65</td>\n",
       "      <td>139</td>\n",
       "      <td>230.61</td>\n",
       "      <td>0.16</td>\n",
       "      <td>11.47</td>\n",
       "      <td>96.6</td>\n",
       "      <td>0.55</td>\n",
       "      <td>8.00%</td>\n",
       "      <td>0.59</td>\n",
       "    </tr>\n",
       "  </tbody>\n",
       "</table>\n",
       "</div>"
      ],
      "text/plain": [
       "        Countries Company Count Deal Count Capital Invested  \\\n",
       "0   United States         2,812      7,658        81,316.15   \n",
       "1  United Kingdom           478      1,179         2,946.92   \n",
       "2          Canada           282        870         1,203.96   \n",
       "3       Argentina             5         14             4.78   \n",
       "4       Australia            65        139           230.61   \n",
       "\n",
       "  Capital Invested Median Revenue Median Revenue Max  \\\n",
       "0                    1.37           6.65    8,756.53   \n",
       "1                     0.5           1.14      435.01   \n",
       "2                    0.54           0.89       93.36   \n",
       "3                    0.03              -           -   \n",
       "4                    0.16          11.47        96.6   \n",
       "\n",
       "  Pre-money Valuation Median % Acquired Median Post Valuation Median  \n",
       "0                        7.8            23.80%                 11.31  \n",
       "1                       1.64            19.00%                   2.2  \n",
       "2                       1.79            25.30%                  1.97  \n",
       "3                       0.75                 -                     -  \n",
       "4                       0.55             8.00%                  0.59  "
      ]
     },
     "execution_count": 129,
     "metadata": {},
     "output_type": "execute_result"
    }
   ],
   "source": [
    "#store csv file into dataframe and view header of file\n",
    "csv_file3 = \"Data/AI Companies_Deals.csv\"\n",
    "aicd_data_df = pd.read_csv(csv_file3)\n",
    "aicd_data_df.head()"
   ]
  },
  {
   "cell_type": "code",
   "execution_count": 130,
   "id": "7739ff00-d993-4212-9815-22f97ecc8c17",
   "metadata": {},
   "outputs": [
    {
     "data": {
      "text/html": [
       "<div>\n",
       "<style scoped>\n",
       "    .dataframe tbody tr th:only-of-type {\n",
       "        vertical-align: middle;\n",
       "    }\n",
       "\n",
       "    .dataframe tbody tr th {\n",
       "        vertical-align: top;\n",
       "    }\n",
       "\n",
       "    .dataframe thead th {\n",
       "        text-align: right;\n",
       "    }\n",
       "</style>\n",
       "<table border=\"1\" class=\"dataframe\">\n",
       "  <thead>\n",
       "    <tr style=\"text-align: right;\">\n",
       "      <th></th>\n",
       "      <th>Company_Count</th>\n",
       "      <th>Deal_Count</th>\n",
       "      <th>Capital_Invested</th>\n",
       "      <th>Revenue</th>\n",
       "    </tr>\n",
       "    <tr>\n",
       "      <th>Country</th>\n",
       "      <th></th>\n",
       "      <th></th>\n",
       "      <th></th>\n",
       "      <th></th>\n",
       "    </tr>\n",
       "  </thead>\n",
       "  <tbody>\n",
       "    <tr>\n",
       "      <th>United States</th>\n",
       "      <td>2,812</td>\n",
       "      <td>7,658</td>\n",
       "      <td>81,316.15</td>\n",
       "      <td>8,756.53</td>\n",
       "    </tr>\n",
       "    <tr>\n",
       "      <th>United Kingdom</th>\n",
       "      <td>478</td>\n",
       "      <td>1,179</td>\n",
       "      <td>2,946.92</td>\n",
       "      <td>435.01</td>\n",
       "    </tr>\n",
       "    <tr>\n",
       "      <th>Canada</th>\n",
       "      <td>282</td>\n",
       "      <td>870</td>\n",
       "      <td>1,203.96</td>\n",
       "      <td>93.36</td>\n",
       "    </tr>\n",
       "    <tr>\n",
       "      <th>Argentina</th>\n",
       "      <td>5</td>\n",
       "      <td>14</td>\n",
       "      <td>4.78</td>\n",
       "      <td>-</td>\n",
       "    </tr>\n",
       "    <tr>\n",
       "      <th>Australia</th>\n",
       "      <td>65</td>\n",
       "      <td>139</td>\n",
       "      <td>230.61</td>\n",
       "      <td>96.6</td>\n",
       "    </tr>\n",
       "  </tbody>\n",
       "</table>\n",
       "</div>"
      ],
      "text/plain": [
       "               Company_Count Deal_Count Capital_Invested   Revenue\n",
       "Country                                                           \n",
       "United States          2,812      7,658        81,316.15  8,756.53\n",
       "United Kingdom           478      1,179         2,946.92    435.01\n",
       "Canada                   282        870         1,203.96     93.36\n",
       "Argentina                  5         14             4.78         -\n",
       "Australia                 65        139           230.61      96.6"
      ]
     },
     "execution_count": 130,
     "metadata": {},
     "output_type": "execute_result"
    }
   ],
   "source": [
    "# Selecting the desired Columns\n",
    "Caicd_data_df = aicd_data_df[[\"Countries\", \"Company Count\", \"Deal Count\", \"Capital Invested\", \"Revenue Max\"]]\n",
    "#Ctcd_data_df = tcd_data_df[[\"Country\", \"Company_Count\", \"Deal_Count\", \"Capital_Invested\", \"Revenue_Max\"]]\n",
    "##  Rename the column headers\n",
    "Caicd_data_df = Caicd_data_df.rename(columns={\"Revenue Max\": \"Revenue\", \"Countries\":\"Country\", \"Company Count\":\"Company_Count\",\"Deal Count\":\"Deal_Count\",\"Revenue Max\":\"Revenue\",\"Capital Invested\":\"Capital_Invested\"})\n",
    "\n",
    "#Droping the NaN values in coutnry column\n",
    "Caicd_data_df = Caicd_data_df.dropna(subset=['Country'])\n",
    "Caicd_data_df.set_index(\"Country\", inplace=True)\n",
    "Caicd_data_df.head()"
   ]
  },
  {
   "cell_type": "code",
   "execution_count": 131,
   "id": "56b30800-7ece-47ef-98b2-8e5170a0ac40",
   "metadata": {},
   "outputs": [],
   "source": [
    "#Cleaning the data by removing , -\n",
    "Caicd_data_df.Company_Count = Caicd_data_df.Company_Count.str.replace(',', '')\n",
    "Caicd_data_df.Deal_Count = Caicd_data_df.Deal_Count.str.replace(',', '')\n",
    "Caicd_data_df.Capital_Invested = Caicd_data_df.Capital_Invested.str.replace(',', '')\n",
    "Caicd_data_df.Capital_Invested = Caicd_data_df.Capital_Invested.str.replace('-', '0')\n",
    "Caicd_data_df.Revenue = Caicd_data_df.Revenue.str.replace(',', '')\n",
    "Caicd_data_df.Revenue = Caicd_data_df.Revenue.str.replace('-', '0')\n",
    "#Caicd_data_df.head()"
   ]
  },
  {
   "cell_type": "code",
   "execution_count": null,
   "id": "bf4916ab-8cff-409d-9338-48fdfb1cf67a",
   "metadata": {},
   "outputs": [],
   "source": []
  },
  {
   "cell_type": "code",
   "execution_count": 132,
   "id": "8e8f0d29-da1e-4bfe-8d6a-bf0c73f40637",
   "metadata": {},
   "outputs": [
    {
     "data": {
      "text/html": [
       "<div>\n",
       "<style scoped>\n",
       "    .dataframe tbody tr th:only-of-type {\n",
       "        vertical-align: middle;\n",
       "    }\n",
       "\n",
       "    .dataframe tbody tr th {\n",
       "        vertical-align: top;\n",
       "    }\n",
       "\n",
       "    .dataframe thead th {\n",
       "        text-align: right;\n",
       "    }\n",
       "</style>\n",
       "<table border=\"1\" class=\"dataframe\">\n",
       "  <thead>\n",
       "    <tr style=\"text-align: right;\">\n",
       "      <th></th>\n",
       "      <th>Company_Count</th>\n",
       "      <th>Deal_Count</th>\n",
       "      <th>Capital_Invested</th>\n",
       "      <th>Revenue</th>\n",
       "    </tr>\n",
       "    <tr>\n",
       "      <th>Country</th>\n",
       "      <th></th>\n",
       "      <th></th>\n",
       "      <th></th>\n",
       "      <th></th>\n",
       "    </tr>\n",
       "  </thead>\n",
       "  <tbody>\n",
       "    <tr>\n",
       "      <th>United States</th>\n",
       "      <td>2812</td>\n",
       "      <td>7658</td>\n",
       "      <td>81316</td>\n",
       "      <td>8756</td>\n",
       "    </tr>\n",
       "    <tr>\n",
       "      <th>United Kingdom</th>\n",
       "      <td>478</td>\n",
       "      <td>1179</td>\n",
       "      <td>2946</td>\n",
       "      <td>435</td>\n",
       "    </tr>\n",
       "    <tr>\n",
       "      <th>Canada</th>\n",
       "      <td>282</td>\n",
       "      <td>870</td>\n",
       "      <td>1203</td>\n",
       "      <td>93</td>\n",
       "    </tr>\n",
       "    <tr>\n",
       "      <th>Argentina</th>\n",
       "      <td>5</td>\n",
       "      <td>14</td>\n",
       "      <td>4</td>\n",
       "      <td>0</td>\n",
       "    </tr>\n",
       "    <tr>\n",
       "      <th>Australia</th>\n",
       "      <td>65</td>\n",
       "      <td>139</td>\n",
       "      <td>230</td>\n",
       "      <td>96</td>\n",
       "    </tr>\n",
       "  </tbody>\n",
       "</table>\n",
       "</div>"
      ],
      "text/plain": [
       "                Company_Count  Deal_Count  Capital_Invested  Revenue\n",
       "Country                                                             \n",
       "United States            2812        7658             81316     8756\n",
       "United Kingdom            478        1179              2946      435\n",
       "Canada                    282         870              1203       93\n",
       "Argentina                   5          14                 4        0\n",
       "Australia                  65         139               230       96"
      ]
     },
     "execution_count": 132,
     "metadata": {},
     "output_type": "execute_result"
    }
   ],
   "source": [
    "#Converting data types into integers\n",
    "Caicd_data_df[\"Company_Count\"] = Caicd_data_df.loc[:, [\"Company_Count\"]].astype(int)\n",
    "Caicd_data_df[\"Deal_Count\"] = Caicd_data_df.loc[:, [\"Deal_Count\"]].astype(float)\n",
    "Caicd_data_df[\"Deal_Count\"] = Caicd_data_df.loc[:, [\"Deal_Count\"]].astype(int)\n",
    "Caicd_data_df[\"Capital_Invested\"] = Caicd_data_df.loc[:, [\"Capital_Invested\"]].astype(float)\n",
    "Caicd_data_df[\"Capital_Invested\"] = Caicd_data_df.loc[:, [\"Capital_Invested\"]].astype(int)\n",
    "Caicd_data_df[\"Revenue\"] = Caicd_data_df.loc[:, [\"Revenue\"]].astype(float)\n",
    "Caicd_data_df[\"Revenue\"] = Caicd_data_df.loc[:, [\"Revenue\"]].astype(int)\n",
    "Caicd_data_df.head()"
   ]
  },
  {
   "cell_type": "code",
   "execution_count": 133,
   "id": "f3c23988-3c5a-48e4-bac3-03f58f4483b3",
   "metadata": {},
   "outputs": [
    {
     "data": {
      "text/html": [
       "<div>\n",
       "<style scoped>\n",
       "    .dataframe tbody tr th:only-of-type {\n",
       "        vertical-align: middle;\n",
       "    }\n",
       "\n",
       "    .dataframe tbody tr th {\n",
       "        vertical-align: top;\n",
       "    }\n",
       "\n",
       "    .dataframe thead th {\n",
       "        text-align: right;\n",
       "    }\n",
       "</style>\n",
       "<table border=\"1\" class=\"dataframe\">\n",
       "  <thead>\n",
       "    <tr style=\"text-align: right;\">\n",
       "      <th></th>\n",
       "      <th>Company_Count</th>\n",
       "      <th>Deal_Count</th>\n",
       "      <th>Capital_Invested</th>\n",
       "      <th>Revenue</th>\n",
       "    </tr>\n",
       "    <tr>\n",
       "      <th>Country</th>\n",
       "      <th></th>\n",
       "      <th></th>\n",
       "      <th></th>\n",
       "      <th></th>\n",
       "    </tr>\n",
       "  </thead>\n",
       "  <tbody>\n",
       "    <tr>\n",
       "      <th>United States</th>\n",
       "      <td>2812</td>\n",
       "      <td>7658</td>\n",
       "      <td>81316</td>\n",
       "      <td>8756</td>\n",
       "    </tr>\n",
       "    <tr>\n",
       "      <th>United Kingdom</th>\n",
       "      <td>478</td>\n",
       "      <td>1179</td>\n",
       "      <td>2946</td>\n",
       "      <td>435</td>\n",
       "    </tr>\n",
       "    <tr>\n",
       "      <th>Canada</th>\n",
       "      <td>282</td>\n",
       "      <td>870</td>\n",
       "      <td>1203</td>\n",
       "      <td>93</td>\n",
       "    </tr>\n",
       "    <tr>\n",
       "      <th>India</th>\n",
       "      <td>255</td>\n",
       "      <td>615</td>\n",
       "      <td>4596</td>\n",
       "      <td>14359</td>\n",
       "    </tr>\n",
       "    <tr>\n",
       "      <th>China</th>\n",
       "      <td>206</td>\n",
       "      <td>465</td>\n",
       "      <td>14896</td>\n",
       "      <td>278</td>\n",
       "    </tr>\n",
       "  </tbody>\n",
       "</table>\n",
       "</div>"
      ],
      "text/plain": [
       "                Company_Count  Deal_Count  Capital_Invested  Revenue\n",
       "Country                                                             \n",
       "United States            2812        7658             81316     8756\n",
       "United Kingdom            478        1179              2946      435\n",
       "Canada                    282         870              1203       93\n",
       "India                     255         615              4596    14359\n",
       "China                     206         465             14896      278"
      ]
     },
     "execution_count": 133,
     "metadata": {},
     "output_type": "execute_result"
    }
   ],
   "source": [
    "# No of Company wise list country list\n",
    "Company_aicd = Caicd_data_df.sort_values([\"Company_Count\"], ascending = False)\n",
    "Company_aicd.head()"
   ]
  },
  {
   "cell_type": "code",
   "execution_count": 134,
   "id": "4c50c75c-e3a5-4013-bafc-778dbf0d0b1b",
   "metadata": {},
   "outputs": [
    {
     "data": {
      "text/html": [
       "<div>\n",
       "<style scoped>\n",
       "    .dataframe tbody tr th:only-of-type {\n",
       "        vertical-align: middle;\n",
       "    }\n",
       "\n",
       "    .dataframe tbody tr th {\n",
       "        vertical-align: top;\n",
       "    }\n",
       "\n",
       "    .dataframe thead th {\n",
       "        text-align: right;\n",
       "    }\n",
       "</style>\n",
       "<table border=\"1\" class=\"dataframe\">\n",
       "  <thead>\n",
       "    <tr style=\"text-align: right;\">\n",
       "      <th></th>\n",
       "      <th>Company_Count</th>\n",
       "      <th>Deal_Count</th>\n",
       "      <th>Capital_Invested</th>\n",
       "      <th>Revenue</th>\n",
       "    </tr>\n",
       "    <tr>\n",
       "      <th>Country</th>\n",
       "      <th></th>\n",
       "      <th></th>\n",
       "      <th></th>\n",
       "      <th></th>\n",
       "    </tr>\n",
       "  </thead>\n",
       "  <tbody>\n",
       "    <tr>\n",
       "      <th>United States</th>\n",
       "      <td>2812</td>\n",
       "      <td>7658</td>\n",
       "      <td>81316</td>\n",
       "      <td>8756</td>\n",
       "    </tr>\n",
       "    <tr>\n",
       "      <th>United Kingdom</th>\n",
       "      <td>478</td>\n",
       "      <td>1179</td>\n",
       "      <td>2946</td>\n",
       "      <td>435</td>\n",
       "    </tr>\n",
       "    <tr>\n",
       "      <th>Canada</th>\n",
       "      <td>282</td>\n",
       "      <td>870</td>\n",
       "      <td>1203</td>\n",
       "      <td>93</td>\n",
       "    </tr>\n",
       "    <tr>\n",
       "      <th>India</th>\n",
       "      <td>255</td>\n",
       "      <td>615</td>\n",
       "      <td>4596</td>\n",
       "      <td>14359</td>\n",
       "    </tr>\n",
       "    <tr>\n",
       "      <th>Israel</th>\n",
       "      <td>202</td>\n",
       "      <td>507</td>\n",
       "      <td>14166</td>\n",
       "      <td>306</td>\n",
       "    </tr>\n",
       "  </tbody>\n",
       "</table>\n",
       "</div>"
      ],
      "text/plain": [
       "                Company_Count  Deal_Count  Capital_Invested  Revenue\n",
       "Country                                                             \n",
       "United States            2812        7658             81316     8756\n",
       "United Kingdom            478        1179              2946      435\n",
       "Canada                    282         870              1203       93\n",
       "India                     255         615              4596    14359\n",
       "Israel                    202         507             14166      306"
      ]
     },
     "execution_count": 134,
     "metadata": {},
     "output_type": "execute_result"
    }
   ],
   "source": [
    "# No of Deals  wise list country list\n",
    "Deal_aicd = Caicd_data_df.sort_values([\"Deal_Count\"], ascending = False)\n",
    "Deal_aicd.head()"
   ]
  },
  {
   "cell_type": "code",
   "execution_count": 135,
   "id": "586998d2-4499-4831-8940-38b343f85ea9",
   "metadata": {},
   "outputs": [
    {
     "data": {
      "text/html": [
       "<div>\n",
       "<style scoped>\n",
       "    .dataframe tbody tr th:only-of-type {\n",
       "        vertical-align: middle;\n",
       "    }\n",
       "\n",
       "    .dataframe tbody tr th {\n",
       "        vertical-align: top;\n",
       "    }\n",
       "\n",
       "    .dataframe thead th {\n",
       "        text-align: right;\n",
       "    }\n",
       "</style>\n",
       "<table border=\"1\" class=\"dataframe\">\n",
       "  <thead>\n",
       "    <tr style=\"text-align: right;\">\n",
       "      <th></th>\n",
       "      <th>Company_Count</th>\n",
       "      <th>Deal_Count</th>\n",
       "      <th>Capital_Invested</th>\n",
       "      <th>Revenue</th>\n",
       "    </tr>\n",
       "    <tr>\n",
       "      <th>Country</th>\n",
       "      <th></th>\n",
       "      <th></th>\n",
       "      <th></th>\n",
       "      <th></th>\n",
       "    </tr>\n",
       "  </thead>\n",
       "  <tbody>\n",
       "    <tr>\n",
       "      <th>United States</th>\n",
       "      <td>2812</td>\n",
       "      <td>7658</td>\n",
       "      <td>81316</td>\n",
       "      <td>8756</td>\n",
       "    </tr>\n",
       "    <tr>\n",
       "      <th>China</th>\n",
       "      <td>206</td>\n",
       "      <td>465</td>\n",
       "      <td>14896</td>\n",
       "      <td>278</td>\n",
       "    </tr>\n",
       "    <tr>\n",
       "      <th>Israel</th>\n",
       "      <td>202</td>\n",
       "      <td>507</td>\n",
       "      <td>14166</td>\n",
       "      <td>306</td>\n",
       "    </tr>\n",
       "    <tr>\n",
       "      <th>India</th>\n",
       "      <td>255</td>\n",
       "      <td>615</td>\n",
       "      <td>4596</td>\n",
       "      <td>14359</td>\n",
       "    </tr>\n",
       "    <tr>\n",
       "      <th>United Kingdom</th>\n",
       "      <td>478</td>\n",
       "      <td>1179</td>\n",
       "      <td>2946</td>\n",
       "      <td>435</td>\n",
       "    </tr>\n",
       "  </tbody>\n",
       "</table>\n",
       "</div>"
      ],
      "text/plain": [
       "                Company_Count  Deal_Count  Capital_Invested  Revenue\n",
       "Country                                                             \n",
       "United States            2812        7658             81316     8756\n",
       "China                     206         465             14896      278\n",
       "Israel                    202         507             14166      306\n",
       "India                     255         615              4596    14359\n",
       "United Kingdom            478        1179              2946      435"
      ]
     },
     "execution_count": 135,
     "metadata": {},
     "output_type": "execute_result"
    }
   ],
   "source": [
    "# Capital Invested  wise list country list\n",
    "Cap_aicd = Caicd_data_df.sort_values([\"Capital_Invested\"], ascending = False)\n",
    "Cap_aicd.head()"
   ]
  },
  {
   "cell_type": "code",
   "execution_count": 136,
   "id": "b8ec27e6-b59e-458d-aaba-dcab00f9d4d8",
   "metadata": {},
   "outputs": [
    {
     "data": {
      "text/html": [
       "<div>\n",
       "<style scoped>\n",
       "    .dataframe tbody tr th:only-of-type {\n",
       "        vertical-align: middle;\n",
       "    }\n",
       "\n",
       "    .dataframe tbody tr th {\n",
       "        vertical-align: top;\n",
       "    }\n",
       "\n",
       "    .dataframe thead th {\n",
       "        text-align: right;\n",
       "    }\n",
       "</style>\n",
       "<table border=\"1\" class=\"dataframe\">\n",
       "  <thead>\n",
       "    <tr style=\"text-align: right;\">\n",
       "      <th></th>\n",
       "      <th>Company_Count</th>\n",
       "      <th>Deal_Count</th>\n",
       "      <th>Capital_Invested</th>\n",
       "      <th>Revenue</th>\n",
       "    </tr>\n",
       "    <tr>\n",
       "      <th>Country</th>\n",
       "      <th></th>\n",
       "      <th></th>\n",
       "      <th></th>\n",
       "      <th></th>\n",
       "    </tr>\n",
       "  </thead>\n",
       "  <tbody>\n",
       "    <tr>\n",
       "      <th>India</th>\n",
       "      <td>255</td>\n",
       "      <td>615</td>\n",
       "      <td>4596</td>\n",
       "      <td>14359</td>\n",
       "    </tr>\n",
       "    <tr>\n",
       "      <th>Germany</th>\n",
       "      <td>169</td>\n",
       "      <td>393</td>\n",
       "      <td>1716</td>\n",
       "      <td>12754</td>\n",
       "    </tr>\n",
       "    <tr>\n",
       "      <th>United States</th>\n",
       "      <td>2812</td>\n",
       "      <td>7658</td>\n",
       "      <td>81316</td>\n",
       "      <td>8756</td>\n",
       "    </tr>\n",
       "    <tr>\n",
       "      <th>Austria</th>\n",
       "      <td>25</td>\n",
       "      <td>51</td>\n",
       "      <td>73</td>\n",
       "      <td>6304</td>\n",
       "    </tr>\n",
       "    <tr>\n",
       "      <th>Bermuda</th>\n",
       "      <td>2</td>\n",
       "      <td>17</td>\n",
       "      <td>2266</td>\n",
       "      <td>2032</td>\n",
       "    </tr>\n",
       "  </tbody>\n",
       "</table>\n",
       "</div>"
      ],
      "text/plain": [
       "               Company_Count  Deal_Count  Capital_Invested  Revenue\n",
       "Country                                                            \n",
       "India                    255         615              4596    14359\n",
       "Germany                  169         393              1716    12754\n",
       "United States           2812        7658             81316     8756\n",
       "Austria                   25          51                73     6304\n",
       "Bermuda                    2          17              2266     2032"
      ]
     },
     "execution_count": 136,
     "metadata": {},
     "output_type": "execute_result"
    }
   ],
   "source": [
    "# Revenue  wise list country list\n",
    "Rev_aicd = Caicd_data_df.sort_values([\"Revenue\"], ascending = False)\n",
    "Rev_aicd.head()"
   ]
  },
  {
   "cell_type": "code",
   "execution_count": 137,
   "id": "af113b7c-474b-483e-89b8-7f3a4a0fd08f",
   "metadata": {},
   "outputs": [
    {
     "data": {
      "text/plain": [
       "Company_Count       int64\n",
       "Deal_Count          int64\n",
       "Capital_Invested    int64\n",
       "Revenue             int64\n",
       "dtype: object"
      ]
     },
     "execution_count": 137,
     "metadata": {},
     "output_type": "execute_result"
    }
   ],
   "source": [
    "Caicd_data_df.dtypes"
   ]
  },
  {
   "cell_type": "code",
   "execution_count": 138,
   "id": "18eec76e-653a-405c-a135-0401d076a9e9",
   "metadata": {},
   "outputs": [
    {
     "name": "stdout",
     "output_type": "stream",
     "text": [
      "Requirement already satisfied: psycopg2-binary in /Users/admin/opt/anaconda3/lib/python3.8/site-packages (2.8.6)\n",
      "Note: you may need to restart the kernel to use updated packages.\n"
     ]
    }
   ],
   "source": [
    "pip install psycopg2-binary"
   ]
  },
  {
   "cell_type": "code",
   "execution_count": 139,
   "id": "fd903fb5-fc91-4671-9184-00523db4bac9",
   "metadata": {},
   "outputs": [],
   "source": [
    "#  create database connection\n",
    "connection_string = \"postgres:nopass97@localhost:5432/Project\"\n",
    "engine = create_engine(f'postgresql://{connection_string}')"
   ]
  },
  {
   "cell_type": "code",
   "execution_count": 140,
   "id": "4ea9e15b-9a08-4a03-845e-bcd2b97fda8b",
   "metadata": {},
   "outputs": [],
   "source": [
    "Caidb_data_df.to_sql(name='AIDB', con=engine, if_exists='replace', index=True)"
   ]
  },
  {
   "cell_type": "code",
   "execution_count": 141,
   "id": "587ddae8-5913-49c6-aac8-4317e0338219",
   "metadata": {},
   "outputs": [],
   "source": [
    "Ctcd_data_df.to_sql(name='Tech_Companies_Deals', con=engine, if_exists='replace', index=True)"
   ]
  },
  {
   "cell_type": "code",
   "execution_count": 142,
   "id": "4e744196-38db-46d5-8888-27602b22f211",
   "metadata": {},
   "outputs": [],
   "source": [
    "Caicd_data_df.to_sql(name='AI_Companies_Deals', con=engine, if_exists='replace', index=True)"
   ]
  },
  {
   "cell_type": "code",
   "execution_count": 143,
   "id": "0e2d0ff2-2b7f-47df-84b7-d6117b9d3411",
   "metadata": {},
   "outputs": [],
   "source": [
    "Company_aicd.to_sql(name='AICD_Company', con=engine, if_exists='replace', index=True)"
   ]
  },
  {
   "cell_type": "code",
   "execution_count": 144,
   "id": "05ece807-4641-4576-ad52-cdfd5a6c417b",
   "metadata": {},
   "outputs": [],
   "source": [
    "Deal_aicd.to_sql(name='AICD_Deals', con=engine, if_exists='replace', index=True)"
   ]
  },
  {
   "cell_type": "code",
   "execution_count": 145,
   "id": "15c76168-74fc-4eb2-97e7-15ce9a854d7b",
   "metadata": {},
   "outputs": [],
   "source": [
    "Cap_aicd.to_sql(name='AICD_Capital', con=engine, if_exists='replace', index=True)"
   ]
  },
  {
   "cell_type": "code",
   "execution_count": 146,
   "id": "b1328163-00fd-4420-a63a-e911612aa61f",
   "metadata": {},
   "outputs": [],
   "source": [
    "Rev_aicd.to_sql(name='AICD_Revenue', con=engine, if_exists='replace', index=True)"
   ]
  },
  {
   "cell_type": "code",
   "execution_count": 147,
   "id": "697f6a1f-c64d-4a5f-bb8c-ddc7a00a0041",
   "metadata": {},
   "outputs": [],
   "source": [
    "Company_tcd.to_sql(name='TCD_Company', con=engine, if_exists='replace', index=True)"
   ]
  },
  {
   "cell_type": "code",
   "execution_count": 148,
   "id": "cf7a76b3-71f4-4fb9-88d5-f3da68a36942",
   "metadata": {},
   "outputs": [],
   "source": [
    "Deal_tcd.to_sql(name='TCD_Deals', con=engine, if_exists='replace', index=True)"
   ]
  },
  {
   "cell_type": "code",
   "execution_count": 149,
   "id": "aeb5f06c-9672-4e08-adde-3d3884955600",
   "metadata": {},
   "outputs": [],
   "source": [
    "Cap_tcd.to_sql(name='TCD_Capital', con=engine, if_exists='replace', index=True)"
   ]
  },
  {
   "cell_type": "code",
   "execution_count": 150,
   "id": "c553a170-b285-4c70-9c3e-6f96c2b3285a",
   "metadata": {},
   "outputs": [],
   "source": [
    "Rev_tcd.to_sql(name='TCD_Revenue', con=engine, if_exists='replace', index=True)"
   ]
  },
  {
   "cell_type": "code",
   "execution_count": 151,
   "id": "a5934846-c18b-4744-95a9-29a9bfc008e3",
   "metadata": {},
   "outputs": [],
   "source": [
    "# Create the inspector and connect it to the engine\n",
    "inspector = inspect(engine)"
   ]
  },
  {
   "cell_type": "code",
   "execution_count": 152,
   "id": "d9323d11",
   "metadata": {},
   "outputs": [
    {
     "name": "stderr",
     "output_type": "stream",
     "text": [
      "<ipython-input-152-2d97e9123e98>:2: SADeprecationWarning: The Engine.table_names() method is deprecated and will be removed in a future release.  Please refer to Inspector.get_table_names(). (deprecated since: 1.4)\n",
      "  engine.table_names()\n"
     ]
    },
    {
     "data": {
      "text/plain": [
       "['AIDB',\n",
       " 'Tech_Companies_Deals',\n",
       " 'AI_Companies_Deals',\n",
       " 'AICD_Company',\n",
       " 'AICD_Deals',\n",
       " 'AICD_Capital',\n",
       " 'AICD_Revenue',\n",
       " 'TCD_Company',\n",
       " 'TCD_Deals',\n",
       " 'TCD_Capital',\n",
       " 'TCD_Revenue']"
      ]
     },
     "execution_count": 152,
     "metadata": {},
     "output_type": "execute_result"
    }
   ],
   "source": [
    "# Confirm tables\n",
    "engine.table_names()"
   ]
  },
  {
   "cell_type": "code",
   "execution_count": null,
   "id": "d3b915df",
   "metadata": {},
   "outputs": [],
   "source": []
  },
  {
   "cell_type": "code",
   "execution_count": null,
   "id": "9c3428db-479a-447f-8448-9b245c528dac",
   "metadata": {},
   "outputs": [],
   "source": []
  }
 ],
 "metadata": {
  "kernelspec": {
   "display_name": "Python 3",
   "language": "python",
   "name": "python3"
  },
  "language_info": {
   "codemirror_mode": {
    "name": "ipython",
    "version": 3
   },
   "file_extension": ".py",
   "mimetype": "text/x-python",
   "name": "python",
   "nbconvert_exporter": "python",
   "pygments_lexer": "ipython3",
   "version": "3.8.8"
  }
 },
 "nbformat": 4,
 "nbformat_minor": 5
}
